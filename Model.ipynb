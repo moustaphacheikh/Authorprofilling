{
 "cells": [
  {
   "cell_type": "code",
   "execution_count": 18,
   "metadata": {},
   "outputs": [],
   "source": [
    "from outils import *\n",
    "from gensim.models import KeyedVectors\n",
    "from sklearn.linear_model import LogisticRegression\n",
    "#import pydot_ng as pydot\n",
    "#import matplotlib.pyplot as plt \n",
    "import gensim\n",
    "import os\n",
    "os.environ[\"PATH\"] += os.pathsep + 'C:/Program Files (x86)/Graphviz2.38/bin/'\n",
    "import keras\n",
    "from keras.layers import Dense, Dropout, Activation, Embedding, LSTM, Bidirectional, GRU\n",
    "from keras.models import Sequential\n",
    "from keras.metrics import binary_accuracy\n",
    "from keras.callbacks import *\n",
    "from keras.layers import Dense, Input, Dropout, BatchNormalization\n",
    "from keras.models import Model\n",
    "from keras.layers.convolutional import MaxPooling1D, Conv1D\n",
    "from keras.layers import Flatten\n",
    "from keras.callbacks import *\n",
    "from keras.utils import plot_model  \n",
    "from keras.models import load_model\n",
    "from sklearn.metrics import f1_score, accuracy_score, recall_score, precision_score\n",
    "import pickle\n",
    "import os\n",
    "import pandas as pd\n",
    "from keras.preprocessing.text import Tokenizer\n",
    "from keras.preprocessing.sequence import pad_sequences\n",
    "import re\n",
    "import numpy as np\n",
    "from keras.optimizers import SGD, Adam,Adagrad , RMSprop,Adadelta,Adamax,Nadam,TFOptimizer"
   ]
  },
  {
   "cell_type": "code",
   "execution_count": 2,
   "metadata": {
    "collapsed": true
   },
   "outputs": [],
   "source": [
    "x_train, y_train, x_test, y_test = load_data()"
   ]
  },
  {
   "cell_type": "code",
   "execution_count": 3,
   "metadata": {
    "collapsed": true
   },
   "outputs": [],
   "source": [
    "x_test = x_test.reshape(72000)\n",
    "x_train = x_train.reshape(168000)\n",
    "np.place(y_train, y_train=='male', 1)\n",
    "np.place(y_train, y_train=='female', 0)\n",
    "np.place(y_test, y_test=='male', 1)\n",
    "np.place(y_test, y_test=='female',0 )\n",
    "y_test = y_test.reshape(72000)\n",
    "y_train = y_train.reshape(168000)"
   ]
  },
  {
   "cell_type": "code",
   "execution_count": 4,
   "metadata": {},
   "outputs": [],
   "source": [
    "#(train, test, word_index) = prepare_tokenized((x_train,x_test), 100000, 35)"
   ]
  },
  {
   "cell_type": "code",
   "execution_count": null,
   "metadata": {
    "collapsed": true
   },
   "outputs": [],
   "source": []
  },
  {
   "cell_type": "code",
   "execution_count": null,
   "metadata": {
    "collapsed": true
   },
   "outputs": [],
   "source": []
  },
  {
   "cell_type": "code",
   "execution_count": 5,
   "metadata": {},
   "outputs": [
    {
     "name": "stdout",
     "output_type": "stream",
     "text": [
      "168000\n",
      "72000\n"
     ]
    }
   ],
   "source": [
    "print(len(y_train))\n",
    "print(len(y_test))"
   ]
  },
  {
   "cell_type": "code",
   "execution_count": 6,
   "metadata": {},
   "outputs": [
    {
     "name": "stdout",
     "output_type": "stream",
     "text": [
      "Tokenizing texts\n",
      "Loaded tokenizer.pkl\n",
      "Found 144388 unique 1-gram tokens.\n",
      "Min sequence length: 0\n",
      "Average sequence length: 9\n",
      "Max sequence length: 60\n",
      "Finished tokenizing texts\n"
     ]
    }
   ],
   "source": [
    "max_num_words = 100000\n",
    "max_sequence_length = 30\n",
    "print('Tokenizing texts')\n",
    "x_train, x_test, word_index = prepare_tokenized_data((x_train, x_test), max_num_words, max_sequence_length)\n",
    "print('Finished tokenizing texts')"
   ]
  },
  {
   "cell_type": "code",
   "execution_count": 11,
   "metadata": {},
   "outputs": [],
   "source": [
    "def loa_embedding_matrix(embedding_path, word_index, embedding_dim,gensim=True):\n",
    "    if not os.path.exists('data/embedding_matrix.npy'):\n",
    "        print('Load embedding model.')\n",
    "        if gensim:\n",
    "            word2vec = KeyedVectors.load(embedding_path)\n",
    "            word2vec = word2vec.wv\n",
    "        else:\n",
    "            \n",
    "            word2vec = KeyedVectors.load_word2vec_format(embedding_path)\n",
    "        embeddings_index = {}\n",
    "        for i in range(len(word2vec.index2word)):\n",
    "            word = word2vec.index2word[i]\n",
    "            vector = word2vec.index2word[i]\n",
    "            embeddings_index[word] = word2vec[vector]\n",
    "        print('Numbers of words in embedding model :', len(embeddings_index))\n",
    "        print('Preparing embedding matrix.')\n",
    "        embedding_matrix = np.zeros((len(word_index) + 1, embedding_dim))\n",
    "        for word, i in word_index.items():\n",
    "            embedding_vector = embeddings_index.get(word)\n",
    "            if embedding_vector is not None:\n",
    "                embedding_matrix[i] = embedding_vector\n",
    "        print('Embeding matrix size :', len(embedding_matrix))\n",
    "        np.save('data/embedding_matrix.npy', embedding_matrix)\n",
    "        print('Saved embedding matrix')\n",
    "    else:\n",
    "        embedding_matrix = np.load('data/embedding_matrix.npy')\n",
    "        print('Loaded embedding matrix')\n",
    "    return embedding_matrix"
   ]
  },
  {
   "cell_type": "code",
   "execution_count": 7,
   "metadata": {},
   "outputs": [],
   "source": [
    "embedding_dim = 300\n",
    "embedding_path = './data/embeddings/corpus_size=300_min_count=5_iter=10_sg=1_window=3'"
   ]
  },
  {
   "cell_type": "code",
   "execution_count": 12,
   "metadata": {},
   "outputs": [
    {
     "name": "stdout",
     "output_type": "stream",
     "text": [
      "Load embedding model.\n",
      "Numbers of words in embedding model : 656211\n",
      "Preparing embedding matrix.\n",
      "Embeding matrix size : 144389\n",
      "Saved embedding matrix\n"
     ]
    }
   ],
   "source": [
    "embedding_matrix = loa_embedding_matrix(embedding_path, word_index, embedding_dim,gensim=True)"
   ]
  },
  {
   "cell_type": "code",
   "execution_count": 13,
   "metadata": {
    "collapsed": true
   },
   "outputs": [],
   "source": [
    "from keras import backend as K\n",
    "K.clear_session()"
   ]
  },
  {
   "cell_type": "code",
   "execution_count": 19,
   "metadata": {
    "collapsed": true
   },
   "outputs": [],
   "source": [
    "optimizers = ['SGD()','Adam()','RMSprop()','Adagrad()','Adadelta()','Adamax()','Nadam()']"
   ]
  },
  {
   "cell_type": "code",
   "execution_count": 31,
   "metadata": {
    "scrolled": true
   },
   "outputs": [
    {
     "name": "stdout",
     "output_type": "stream",
     "text": [
      "Optimizer :  SGD() \n",
      "\n",
      "Train on 5000 samples, validate on 5000 samples\n",
      "Epoch 1/10\n",
      "5000/5000 [==============================] - 26s 5ms/step - loss: 0.6708 - acc: 0.6238 - val_loss: 0.5200 - val_acc: 1.0000\n",
      "Epoch 2/10\n",
      "5000/5000 [==============================] - 24s 5ms/step - loss: 0.6590 - acc: 0.6354 - val_loss: 0.4784 - val_acc: 1.0000\n",
      "Epoch 3/10\n",
      "5000/5000 [==============================] - 24s 5ms/step - loss: 0.6559 - acc: 0.6354 - val_loss: 0.4525 - val_acc: 1.0000\n",
      "Epoch 4/10\n",
      "5000/5000 [==============================] - 24s 5ms/step - loss: 0.6558 - acc: 0.6354 - val_loss: 0.4483 - val_acc: 1.0000\n",
      "Epoch 5/10\n",
      "5000/5000 [==============================] - 24s 5ms/step - loss: 0.6554 - acc: 0.6354 - val_loss: 0.4482 - val_acc: 1.0000\n",
      "Epoch 6/10\n",
      "5000/5000 [==============================] - 24s 5ms/step - loss: 0.6543 - acc: 0.6354 - val_loss: 0.4461 - val_acc: 1.0000\n",
      "Epoch 7/10\n",
      "5000/5000 [==============================] - 24s 5ms/step - loss: 0.6533 - acc: 0.6354 - val_loss: 0.4483 - val_acc: 1.0000\n",
      "Epoch 8/10\n",
      "5000/5000 [==============================] - 24s 5ms/step - loss: 0.6527 - acc: 0.6354 - val_loss: 0.4388 - val_acc: 1.0000\n",
      "Epoch 9/10\n",
      "5000/5000 [==============================] - 24s 5ms/step - loss: 0.6516 - acc: 0.6354 - val_loss: 0.4339 - val_acc: 1.0000\n",
      "Epoch 10/10\n",
      "5000/5000 [==============================] - 24s 5ms/step - loss: 0.6527 - acc: 0.6354 - val_loss: 0.4451 - val_acc: 1.0000\n",
      "Optimizer :  Adam() \n",
      "\n",
      "Train on 5000 samples, validate on 5000 samples\n",
      "Epoch 1/10\n",
      "5000/5000 [==============================] - 26s 5ms/step - loss: 0.6646 - acc: 0.6262 - val_loss: 0.4132 - val_acc: 0.9990\n",
      "Epoch 2/10\n",
      "5000/5000 [==============================] - 24s 5ms/step - loss: 0.6419 - acc: 0.6470 - val_loss: 0.3730 - val_acc: 0.9944\n",
      "Epoch 3/10\n",
      "5000/5000 [==============================] - 25s 5ms/step - loss: 0.6288 - acc: 0.6542 - val_loss: 0.4097 - val_acc: 0.9740\n",
      "Epoch 4/10\n",
      "5000/5000 [==============================] - 25s 5ms/step - loss: 0.6121 - acc: 0.6780 - val_loss: 0.4152 - val_acc: 0.9246\n",
      "Epoch 5/10\n",
      "5000/5000 [==============================] - 24s 5ms/step - loss: 0.5961 - acc: 0.6854 - val_loss: 0.3435 - val_acc: 0.9778\n",
      "Epoch 6/10\n",
      "5000/5000 [==============================] - 24s 5ms/step - loss: 0.5744 - acc: 0.7112 - val_loss: 0.4603 - val_acc: 0.8474\n",
      "Epoch 7/10\n",
      "5000/5000 [==============================] - 24s 5ms/step - loss: 0.5576 - acc: 0.7172 - val_loss: 0.3917 - val_acc: 0.9036\n",
      "Epoch 8/10\n",
      "5000/5000 [==============================] - 25s 5ms/step - loss: 0.5397 - acc: 0.7382 - val_loss: 0.3339 - val_acc: 0.9360\n",
      "Epoch 9/10\n",
      "5000/5000 [==============================] - 25s 5ms/step - loss: 0.5048 - acc: 0.7600 - val_loss: 0.4446 - val_acc: 0.8454\n",
      "Epoch 10/10\n",
      "5000/5000 [==============================] - 25s 5ms/step - loss: 0.4776 - acc: 0.7762 - val_loss: 0.3858 - val_acc: 0.8892\n",
      "Optimizer :  RMSprop() \n",
      "\n",
      "Train on 5000 samples, validate on 5000 samples\n",
      "Epoch 1/10\n",
      "5000/5000 [==============================] - 25s 5ms/step - loss: 0.7195 - acc: 0.6322 - val_loss: 0.4943 - val_acc: 0.9718\n",
      "Epoch 2/10\n",
      "5000/5000 [==============================] - 24s 5ms/step - loss: 0.6686 - acc: 0.6498 - val_loss: 0.4152 - val_acc: 0.9808\n",
      "Epoch 3/10\n",
      "5000/5000 [==============================] - 24s 5ms/step - loss: 0.6249 - acc: 0.6696 - val_loss: 0.4760 - val_acc: 0.9248\n",
      "Epoch 4/10\n",
      "5000/5000 [==============================] - 24s 5ms/step - loss: 0.6112 - acc: 0.6774 - val_loss: 0.5615 - val_acc: 0.7410\n",
      "Epoch 5/10\n",
      "5000/5000 [==============================] - 24s 5ms/step - loss: 0.6090 - acc: 0.6876 - val_loss: 0.3229 - val_acc: 0.9760\n",
      "Epoch 6/10\n",
      "5000/5000 [==============================] - 24s 5ms/step - loss: 0.5875 - acc: 0.7030 - val_loss: 0.3531 - val_acc: 0.9432\n",
      "Epoch 7/10\n",
      "5000/5000 [==============================] - 24s 5ms/step - loss: 0.5617 - acc: 0.7182 - val_loss: 0.4653 - val_acc: 0.8868\n",
      "Epoch 8/10\n",
      "5000/5000 [==============================] - 24s 5ms/step - loss: 0.5459 - acc: 0.7324 - val_loss: 0.5821 - val_acc: 0.7838\n",
      "Epoch 9/10\n",
      "5000/5000 [==============================] - 25s 5ms/step - loss: 0.5227 - acc: 0.7432 - val_loss: 0.4465 - val_acc: 0.8698\n",
      "Epoch 10/10\n",
      "5000/5000 [==============================] - 24s 5ms/step - loss: 0.5072 - acc: 0.7564 - val_loss: 0.3312 - val_acc: 0.9344\n",
      "Optimizer :  Adagrad() \n",
      "\n",
      "Train on 5000 samples, validate on 5000 samples\n",
      "Epoch 1/10\n",
      "5000/5000 [==============================] - 26s 5ms/step - loss: 0.6862 - acc: 0.6342 - val_loss: 0.4729 - val_acc: 0.9646\n",
      "Epoch 2/10\n",
      "5000/5000 [==============================] - 24s 5ms/step - loss: 0.7053 - acc: 0.6484 - val_loss: 0.4283 - val_acc: 0.9616\n",
      "Epoch 3/10\n",
      "5000/5000 [==============================] - 24s 5ms/step - loss: 0.6383 - acc: 0.6628 - val_loss: 0.4567 - val_acc: 0.9196\n",
      "Epoch 4/10\n",
      "5000/5000 [==============================] - 24s 5ms/step - loss: 0.6345 - acc: 0.6686 - val_loss: 0.3310 - val_acc: 0.9650\n",
      "Epoch 5/10\n",
      "5000/5000 [==============================] - 24s 5ms/step - loss: 0.6152 - acc: 0.6776 - val_loss: 0.3582 - val_acc: 0.9694\n",
      "Epoch 6/10\n",
      "5000/5000 [==============================] - 24s 5ms/step - loss: 0.6318 - acc: 0.6878 - val_loss: 0.3611 - val_acc: 0.9586\n",
      "Epoch 7/10\n",
      "5000/5000 [==============================] - 25s 5ms/step - loss: 0.6140 - acc: 0.6934 - val_loss: 0.3209 - val_acc: 0.9598\n",
      "Epoch 8/10\n",
      "5000/5000 [==============================] - 24s 5ms/step - loss: 0.5737 - acc: 0.6990 - val_loss: 0.4259 - val_acc: 0.8930\n",
      "Epoch 9/10\n",
      "5000/5000 [==============================] - 24s 5ms/step - loss: 0.5607 - acc: 0.7104 - val_loss: 0.4852 - val_acc: 0.8800\n",
      "Epoch 10/10\n",
      "5000/5000 [==============================] - 24s 5ms/step - loss: 0.5534 - acc: 0.7176 - val_loss: 0.3574 - val_acc: 0.9274\n",
      "Optimizer :  Adadelta() \n",
      "\n",
      "Train on 5000 samples, validate on 5000 samples\n",
      "Epoch 1/10\n",
      "5000/5000 [==============================] - 27s 5ms/step - loss: 0.6595 - acc: 0.6330 - val_loss: 0.4256 - val_acc: 1.0000\n",
      "Epoch 2/10\n",
      "5000/5000 [==============================] - 25s 5ms/step - loss: 0.6473 - acc: 0.6354 - val_loss: 0.4276 - val_acc: 0.9964\n",
      "Epoch 3/10\n",
      "5000/5000 [==============================] - 24s 5ms/step - loss: 0.6363 - acc: 0.6456 - val_loss: 0.3681 - val_acc: 0.9862\n",
      "Epoch 4/10\n",
      "5000/5000 [==============================] - 24s 5ms/step - loss: 0.6279 - acc: 0.6582 - val_loss: 0.3525 - val_acc: 0.9800\n",
      "Epoch 5/10\n",
      "5000/5000 [==============================] - 24s 5ms/step - loss: 0.6186 - acc: 0.6608 - val_loss: 0.3246 - val_acc: 0.9770\n",
      "Epoch 6/10\n",
      "5000/5000 [==============================] - 24s 5ms/step - loss: 0.6126 - acc: 0.6714 - val_loss: 0.4456 - val_acc: 0.9076\n",
      "Epoch 7/10\n",
      "5000/5000 [==============================] - 24s 5ms/step - loss: 0.6102 - acc: 0.6706 - val_loss: 0.2943 - val_acc: 0.9748\n",
      "Epoch 8/10\n",
      "5000/5000 [==============================] - 24s 5ms/step - loss: 0.6021 - acc: 0.6804 - val_loss: 0.2707 - val_acc: 0.9762\n",
      "Epoch 9/10\n",
      "5000/5000 [==============================] - 24s 5ms/step - loss: 0.5948 - acc: 0.6770 - val_loss: 0.3967 - val_acc: 0.8936\n",
      "Epoch 10/10\n",
      "5000/5000 [==============================] - 25s 5ms/step - loss: 0.5865 - acc: 0.6952 - val_loss: 0.3349 - val_acc: 0.9508\n",
      "Optimizer :  Adamax() \n",
      "\n",
      "Train on 5000 samples, validate on 5000 samples\n",
      "Epoch 1/10\n",
      "5000/5000 [==============================] - 26s 5ms/step - loss: 0.6608 - acc: 0.6340 - val_loss: 0.4074 - val_acc: 1.0000\n",
      "Epoch 2/10\n",
      "5000/5000 [==============================] - 25s 5ms/step - loss: 0.6459 - acc: 0.6492 - val_loss: 0.4599 - val_acc: 0.9574\n",
      "Epoch 3/10\n",
      "5000/5000 [==============================] - 25s 5ms/step - loss: 0.6301 - acc: 0.6494 - val_loss: 0.4369 - val_acc: 0.9440\n",
      "Epoch 4/10\n",
      "5000/5000 [==============================] - 25s 5ms/step - loss: 0.6230 - acc: 0.6660 - val_loss: 0.3410 - val_acc: 0.9842\n",
      "Epoch 5/10\n",
      "5000/5000 [==============================] - 25s 5ms/step - loss: 0.6125 - acc: 0.6724 - val_loss: 0.3624 - val_acc: 0.9660\n",
      "Epoch 6/10\n",
      "5000/5000 [==============================] - 24s 5ms/step - loss: 0.6019 - acc: 0.6800 - val_loss: 0.4308 - val_acc: 0.8988\n",
      "Epoch 7/10\n",
      "5000/5000 [==============================] - 24s 5ms/step - loss: 0.5896 - acc: 0.6886 - val_loss: 0.4645 - val_acc: 0.8628\n",
      "Epoch 8/10\n"
     ]
    },
    {
     "name": "stdout",
     "output_type": "stream",
     "text": [
      "5000/5000 [==============================] - 25s 5ms/step - loss: 0.5812 - acc: 0.6988 - val_loss: 0.4472 - val_acc: 0.8576\n",
      "Epoch 9/10\n",
      "5000/5000 [==============================] - 25s 5ms/step - loss: 0.5676 - acc: 0.7060 - val_loss: 0.3694 - val_acc: 0.9176\n",
      "Epoch 10/10\n",
      "5000/5000 [==============================] - 53s 11ms/step - loss: 0.5545 - acc: 0.7260 - val_loss: 0.4060 - val_acc: 0.8808\n",
      "Optimizer :  Nadam() \n",
      "\n",
      "Train on 5000 samples, validate on 5000 samples\n",
      "Epoch 1/10\n",
      "5000/5000 [==============================] - 26s 5ms/step - loss: 0.6850 - acc: 0.6356 - val_loss: 0.3919 - val_acc: 0.9970\n",
      "Epoch 2/10\n",
      "5000/5000 [==============================] - 24s 5ms/step - loss: 0.6344 - acc: 0.6486 - val_loss: 0.4277 - val_acc: 0.9558\n",
      "Epoch 3/10\n",
      "5000/5000 [==============================] - 25s 5ms/step - loss: 0.6218 - acc: 0.6720 - val_loss: 0.4423 - val_acc: 0.9198\n",
      "Epoch 4/10\n",
      "5000/5000 [==============================] - 25s 5ms/step - loss: 0.6019 - acc: 0.6858 - val_loss: 0.3657 - val_acc: 0.9464\n",
      "Epoch 5/10\n",
      "5000/5000 [==============================] - 24s 5ms/step - loss: 0.7096 - acc: 0.6936 - val_loss: 1.0000e-07 - val_acc: 1.0000\n",
      "Epoch 6/10\n",
      "5000/5000 [==============================] - 24s 5ms/step - loss: 6.2187 - acc: 0.6040 - val_loss: 0.0155 - val_acc: 1.0000\n",
      "Epoch 7/10\n",
      "5000/5000 [==============================] - 24s 5ms/step - loss: 6.1444 - acc: 0.6088 - val_loss: 0.0142 - val_acc: 1.0000\n",
      "Epoch 8/10\n",
      "5000/5000 [==============================] - 24s 5ms/step - loss: 6.7275 - acc: 0.5702 - val_loss: 0.0935 - val_acc: 0.9950\n",
      "Epoch 9/10\n",
      "5000/5000 [==============================] - 25s 5ms/step - loss: 6.7784 - acc: 0.5682 - val_loss: 0.0361 - val_acc: 0.9986\n",
      "Epoch 10/10\n",
      "5000/5000 [==============================] - 24s 5ms/step - loss: 6.7944 - acc: 0.5670 - val_loss: 0.0132 - val_acc: 1.0000\n"
     ]
    }
   ],
   "source": [
    "dflist= []\n",
    "for opt in optimizers:\n",
    "    print('Optimizer : ' , opt,'\\n')\n",
    "    K.clear_session()\n",
    "    model = Sequential()\n",
    "    model.add(Embedding(len(word_index) + 1,\n",
    "                            embedding_dim,\n",
    "                            weights=[embedding_matrix],\n",
    "                            input_length=max_sequence_length,\n",
    "                            trainable=False))\n",
    "    model.add(Bidirectional(LSTM(100,activation='linear')))\n",
    "    model.add(Activation('relu'))\n",
    "    model.add(Dropout(0.5))\n",
    "    model.add(Dense(20,activation='relu'))\n",
    "    model.add(Dense(1, activation='sigmoid'))\n",
    "\n",
    "    model.compile(loss='binary_crossentropy', optimizer=eval(opt), metrics=['accuracy'])\n",
    "    h =model.fit(x_train[:5000],y_train[:5000],batch_size=32,epochs=10,validation_data=(x_test[:5000],y_test[:5000]),verbose=1)\n",
    "    \n",
    "    #y_pred = model.predict_classes(x_test)\n",
    "    #evaluate(y_test,y_pred)\n",
    "    dflist.append(pd.DataFrame(h.history,index=h.epoch))"
   ]
  },
  {
   "cell_type": "code",
   "execution_count": 44,
   "metadata": {},
   "outputs": [
    {
     "name": "stdout",
     "output_type": "stream",
     "text": [
      "Populating the interactive namespace from numpy and matplotlib\n"
     ]
    },
    {
     "data": {
      "image/png": "[encoded data removed]",
      "text/plain": [
       "<matplotlib.figure.Figure at 0x21919801b00>"
      ]
     },
     "metadata": {},
     "output_type": "display_data"
    }
   ],
   "source": [
    "plot_histories(dflist)"
   ]
  },
  {
   "cell_type": "code",
   "execution_count": 28,
   "metadata": {
    "collapsed": true
   },
   "outputs": [],
   "source": []
  },
  {
   "cell_type": "code",
   "execution_count": 30,
   "metadata": {},
   "outputs": [],
   "source": []
  },
  {
   "cell_type": "code",
   "execution_count": 65,
   "metadata": {},
   "outputs": [],
   "source": [
    "def counts(array):\n",
    "    y = np.bincount(array.astype(int))\n",
    "    ii = np.nonzero(y)[0]\n",
    "    print(np.vstack((ii,y[ii])).T)"
   ]
  },
  {
   "cell_type": "code",
   "execution_count": null,
   "metadata": {},
   "outputs": [],
   "source": []
  },
  {
   "cell_type": "code",
   "execution_count": null,
   "metadata": {
    "collapsed": true
   },
   "outputs": [],
   "source": []
  },
  {
   "cell_type": "code",
   "execution_count": 51,
   "metadata": {
    "collapsed": true
   },
   "outputs": [],
   "source": [
    "def get_model():\n",
    "    K.clear_session()\n",
    "    model = Sequential()\n",
    "    model.add(Embedding(len(word_index) + 1,\n",
    "                            embedding_dim,\n",
    "                            weights=[embedding_matrix],\n",
    "                            input_length=max_sequence_length,\n",
    "                            trainable=False))\n",
    "    model.add(Bidirectional(LSTM(150,activation='linear')))\n",
    "    model.add(Activation('relu'))\n",
    "    model.add(Dropout(0.5))\n",
    "    model.add(Dense(32,activation='relu'))\n",
    "    model.add(Dense(1, activation='sigmoid'))\n",
    "    return model"
   ]
  },
  {
   "cell_type": "code",
   "execution_count": 52,
   "metadata": {
    "collapsed": true
   },
   "outputs": [],
   "source": [
    "model = get_model()\n",
    "# Compile model\n",
    "model.compile(loss='binary_crossentropy', optimizer='adam', metrics=['accuracy'])"
   ]
  },
  {
   "cell_type": "code",
   "execution_count": 53,
   "metadata": {
    "collapsed": true
   },
   "outputs": [],
   "source": [
    "x_train, y_train = randomize(x_train, y_train)\n",
    "x_test, y_test = randomize(x_test, y_test)"
   ]
  },
  {
   "cell_type": "code",
   "execution_count": null,
   "metadata": {
    "collapsed": true
   },
   "outputs": [],
   "source": []
  },
  {
   "cell_type": "code",
   "execution_count": 54,
   "metadata": {},
   "outputs": [
    {
     "name": "stdout",
     "output_type": "stream",
     "text": [
      "Train on 168000 samples, validate on 72000 samples\n",
      "Epoch 1/2\n",
      "168000/168000 [==============================] - 389s 2ms/step - loss: 0.6288 - acc: 0.6587 - val_loss: 0.6386 - val_acc: 0.6426\n",
      "Epoch 2/2\n",
      "168000/168000 [==============================] - 387s 2ms/step - loss: 0.6081 - acc: 0.6753 - val_loss: 0.6359 - val_acc: 0.6598\n"
     ]
    }
   ],
   "source": [
    "history = model.fit(x_train,y_train,batch_size=100,epochs=10,validation_data=(x_test,y_test),verbose=1)"
   ]
  },
  {
   "cell_type": "code",
   "execution_count": null,
   "metadata": {
    "collapsed": true
   },
   "outputs": [],
   "source": [
    "def evaluate(model,file):\n",
    "    sentences,genre = get_tweets(file)\n",
    "    model.predict(tweets)"
   ]
  },
  {
   "cell_type": "code",
   "execution_count": 105,
   "metadata": {
    "collapsed": true
   },
   "outputs": [],
   "source": [
    "df = pd.read_csv('./data/test_data - Copie.csv',encoding='utf8')\n",
    "df  = df[['id','genre']].copy()"
   ]
  },
  {
   "cell_type": "code",
   "execution_count": 106,
   "metadata": {
    "scrolled": true
   },
   "outputs": [
    {
     "name": "stdout",
     "output_type": "stream",
     "text": [
      "Loaded tokenizer.pkl\n",
      "0\n",
      "1\n",
      "2\n",
      "3\n",
      "4\n",
      "5\n",
      "6\n",
      "7\n",
      "8\n",
      "9\n",
      "10\n",
      "11\n",
      "12\n",
      "13\n",
      "14\n",
      "15\n",
      "16\n",
      "17\n",
      "18\n",
      "19\n",
      "20\n",
      "21\n",
      "22\n",
      "23\n",
      "24\n",
      "25\n",
      "26\n",
      "27\n",
      "28\n",
      "29\n",
      "30\n",
      "31\n",
      "32\n",
      "33\n",
      "34\n",
      "35\n",
      "36\n",
      "37\n",
      "38\n",
      "39\n",
      "40\n",
      "41\n",
      "42\n",
      "43\n",
      "44\n",
      "45\n",
      "46\n",
      "47\n",
      "48\n",
      "49\n",
      "50\n",
      "51\n",
      "52\n",
      "53\n",
      "54\n",
      "55\n",
      "56\n",
      "57\n",
      "58\n",
      "59\n",
      "60\n",
      "61\n",
      "62\n",
      "63\n",
      "64\n",
      "65\n",
      "66\n",
      "67\n",
      "68\n",
      "69\n",
      "70\n",
      "71\n",
      "72\n",
      "73\n",
      "74\n",
      "75\n",
      "76\n",
      "77\n",
      "78\n",
      "79\n",
      "80\n",
      "81\n",
      "82\n",
      "83\n",
      "84\n",
      "85\n",
      "86\n",
      "87\n",
      "88\n",
      "89\n",
      "90\n",
      "91\n",
      "92\n",
      "93\n"
     ]
    }
   ],
   "source": [
    "with open('data/tokenizer.pkl', 'rb') as f:\n",
    "    tokenizer = pickle.load(f)\n",
    "    print('Loaded tokenizer.pkl')\n",
    "    \n",
    "lables = []\n",
    "predictions = []\n",
    "i=0\n",
    "for index, row in df.iterrows(): \n",
    "    print(i)\n",
    "    i+=1\n",
    "\n",
    "    if row.genre=='female':\n",
    "        sentences,genre = get_tweets(row.id,0)\n",
    "        lables.append(0)\n",
    "    else:\n",
    "        sentences,genre = get_tweets(row.id,1) \n",
    "        lables.append(1)\n",
    "\n",
    "        \n",
    "    sequences = tokenizer.texts_to_sequences(sentences)\n",
    "    sentences = pad_sequences(sequences, maxlen=max_sequence_length)\n",
    "    predictions.append(predict(model,sentences))\n"
   ]
  },
  {
   "cell_type": "code",
   "execution_count": 108,
   "metadata": {},
   "outputs": [
    {
     "data": {
      "text/plain": [
       "0.5106382978723404"
      ]
     },
     "execution_count": 108,
     "metadata": {},
     "output_type": "execute_result"
    }
   ],
   "source": [
    "from sklearn.metrics import accuracy_score\n",
    "accuracy_score(lables, predictions)"
   ]
  },
  {
   "cell_type": "code",
   "execution_count": null,
   "metadata": {},
   "outputs": [],
   "source": [
    "def tokenize(sentences,tokenizer):\n",
    "    sequences = tokenizer.texts_to_sequences(sentences)\n",
    "    sentences = pad_sequences(sequences, maxlen=max_sequence_length)"
   ]
  },
  {
   "cell_type": "code",
   "execution_count": 78,
   "metadata": {},
   "outputs": [
    {
     "name": "stdout",
     "output_type": "stream",
     "text": [
      "Found 144388 unique 1-gram tokens.\n",
      "Min sequence length: 3\n",
      "Average sequence length: 13\n",
      "Max sequence length: 35\n"
     ]
    }
   ],
   "source": [
    "predict(model,tweets)"
   ]
  },
  {
   "cell_type": "code",
   "execution_count": 71,
   "metadata": {
    "collapsed": true
   },
   "outputs": [],
   "source": []
  },
  {
   "cell_type": "code",
   "execution_count": 68,
   "metadata": {},
   "outputs": [],
   "source": []
  },
  {
   "cell_type": "code",
   "execution_count": 66,
   "metadata": {},
   "outputs": [
    {
     "name": "stdout",
     "output_type": "stream",
     "text": [
      "[[ 0 63]\n",
      " [ 1 37]]\n"
     ]
    }
   ],
   "source": [
    "counts(y_test[:100])"
   ]
  },
  {
   "cell_type": "code",
   "execution_count": 84,
   "metadata": {},
   "outputs": [
    {
     "data": {
      "text/plain": [
       "array([[   0,    0,    0, ..., 1130,  930, 1063],\n",
       "       [   0,    0,    0, ...,    1, 1165, 1255],\n",
       "       [   0,    0,    0, ...,   59,  786, 1054],\n",
       "       ...,\n",
       "       [   0,    0,    0, ...,    1, 1165, 1255],\n",
       "       [   0,    0,    0, ...,  287,  614,  644],\n",
       "       [   0,    0,    0, ...,  723,    3,   33]])"
      ]
     },
     "execution_count": 84,
     "metadata": {},
     "output_type": "execute_result"
    }
   ],
   "source": [
    "sentences_test"
   ]
  },
  {
   "cell_type": "code",
   "execution_count": 85,
   "metadata": {},
   "outputs": [
    {
     "data": {
      "text/plain": [
       "0"
      ]
     },
     "execution_count": 85,
     "metadata": {},
     "output_type": "execute_result"
    }
   ],
   "source": [
    "predict(model,sentences_test)"
   ]
  },
  {
   "cell_type": "code",
   "execution_count": null,
   "metadata": {
    "collapsed": true
   },
   "outputs": [],
   "source": []
  },
  {
   "cell_type": "code",
   "execution_count": null,
   "metadata": {
    "collapsed": true
   },
   "outputs": [],
   "source": []
  },
  {
   "cell_type": "code",
   "execution_count": null,
   "metadata": {
    "collapsed": true
   },
   "outputs": [],
   "source": []
  },
  {
   "cell_type": "code",
   "execution_count": null,
   "metadata": {
    "collapsed": true
   },
   "outputs": [],
   "source": []
  },
  {
   "cell_type": "code",
   "execution_count": null,
   "metadata": {
    "collapsed": true
   },
   "outputs": [],
   "source": []
  },
  {
   "cell_type": "code",
   "execution_count": null,
   "metadata": {
    "collapsed": true
   },
   "outputs": [],
   "source": []
  },
  {
   "cell_type": "code",
   "execution_count": null,
   "metadata": {
    "collapsed": true
   },
   "outputs": [],
   "source": []
  },
  {
   "cell_type": "code",
   "execution_count": 50,
   "metadata": {
    "collapsed": true
   },
   "outputs": [],
   "source": [
    "def randomize(dataset, labels):\n",
    "    # Generate the permutation index array.\n",
    "    permutation = np.random.permutation(dataset.shape[0])\n",
    "    # Shuffle the arrays by giving the permutation in the square brackets.\n",
    "    shuffled_a = dataset[permutation]\n",
    "    shuffled_b = labels[permutation]\n",
    "    return shuffled_a, shuffled_b"
   ]
  },
  {
   "cell_type": "code",
   "execution_count": 43,
   "metadata": {
    "collapsed": true
   },
   "outputs": [],
   "source": [
    "def plot_histories(dflist):\n",
    "    historydf = pd.concat(dflist,axis=1)\n",
    "    metrics_reported  =dflist[0].columns\n",
    "    optimizers = ['SGD','Adam','RMSprop','Adagrad','Adadelta','Adamax','Nadam']\n",
    "    idx = pd.MultiIndex.from_product([optimizers,metrics_reported],names=['Algorithmes','metric'])\n",
    "    historydf.columns =idx\n",
    "    %matplotlib inline\n",
    "    %pylab inline\n",
    "    pylab.rcParams['figure.figsize'] = (7, 10)\n",
    "    ax = plt.subplot(211)\n",
    "    historydf.xs('loss',axis=1,level='metric').plot(ylim=(0,1),ax=ax)\n",
    "    plt.title('Loss')\n",
    "    plt.xlabel('Epochs')\n",
    "    ax = plt.subplot(212)\n",
    "    historydf.xs('acc',axis=1,level='metric').plot(ylim=(0,1),ax=ax)\n",
    "    plt.title('Accuracy')\n",
    "    plt.xlabel('Epochs')\n",
    "    plt.tight_layout()"
   ]
  },
  {
   "cell_type": "code",
   "execution_count": null,
   "metadata": {
    "collapsed": true
   },
   "outputs": [],
   "source": [
    "def get_tweets(file_name,genre):\n",
    "    sentences = []\n",
    "    with (open('./data/ar_PAN/{}.xml'.format(file_name),'r',encoding='utf8')) as f:\n",
    "        doc = etree.parse(f)\n",
    "    root = doc.getroot()\n",
    "    for i in range(len(root[0])):\n",
    "        sentences.append(preprocessing(root[0][i].text))\n",
    "    return sentences,genre"
   ]
  },
  {
   "cell_type": "code",
   "execution_count": null,
   "metadata": {
    "collapsed": true
   },
   "outputs": [],
   "source": [
    "def predict(model,tweets):\n",
    "    probability = model.predict_proba(tweets).mean()\n",
    "    if probability > 0.5:\n",
    "        return 1\n",
    "    else:\n",
    "        return 0"
   ]
  },
  {
   "cell_type": "code",
   "execution_count": null,
   "metadata": {
    "collapsed": true
   },
   "outputs": [],
   "source": []
  },
  {
   "cell_type": "code",
   "execution_count": 77,
   "metadata": {
    "collapsed": true
   },
   "outputs": [],
   "source": [
    "import pandas as pd\n",
    "from lxml import etree\n",
    "import os\n",
    "from sklearn.metrics import f1_score, accuracy_score, recall_score, precision_score\n",
    "import pickle\n",
    "import os\n",
    "import pandas as pd\n",
    "from keras.preprocessing.text import Tokenizer\n",
    "from keras.preprocessing.sequence import pad_sequences\n",
    "import re\n",
    "import numpy as np\n",
    "from gensim.models import KeyedVectors"
   ]
  }
 ],
 "metadata": {
  "kernelspec": {
   "display_name": "Python 3",
   "language": "python",
   "name": "python3"
  },
  "language_info": {
   "codemirror_mode": {
    "name": "ipython",
    "version": 3
   },
   "file_extension": ".py",
   "mimetype": "text/x-python",
   "name": "python",
   "nbconvert_exporter": "python",
   "pygments_lexer": "ipython3",
   "version": "3.6.3"
  }
 },
 "nbformat": 4,
 "nbformat_minor": 2
}
